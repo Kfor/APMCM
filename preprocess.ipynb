{
 "cells": [
  {
   "cell_type": "code",
   "execution_count": 1,
   "metadata": {
    "ExecuteTime": {
     "end_time": "2019-11-30T17:51:50.434544Z",
     "start_time": "2019-11-30T17:51:46.961147Z"
    }
   },
   "outputs": [],
   "source": [
    "## 引入头文件\n",
    "import cv2\n",
    "import numpy as np\n",
    "from skimage import filters, feature, img_as_float, measure, morphology\n",
    "import os\n",
    "import matplotlib.pyplot as plt\n",
    "from skimage.feature import shape_index\n",
    "from skimage.draw import circle\n",
    "from skimage.filters import try_all_threshold\n",
    "from skimage.segmentation import chan_vese\n",
    "from skimage.filters import threshold_otsu, threshold_triangle"
   ]
  },
  {
   "cell_type": "code",
   "execution_count": 2,
   "metadata": {
    "ExecuteTime": {
     "end_time": "2019-11-30T17:51:50.461983Z",
     "start_time": "2019-11-30T17:51:50.453431Z"
    }
   },
   "outputs": [],
   "source": [
    "## 定义路径\n",
    "# 将path定义为图片文件夹的路径\n",
    "path = r'C:\\Users\\Kfor\\Desktop\\亚太\\2019 APMCM Problems\\2019 APMCM Problems\\A_source'\n",
    "os.chdir(path)"
   ]
  },
  {
   "cell_type": "code",
   "execution_count": 3,
   "metadata": {
    "ExecuteTime": {
     "end_time": "2019-11-30T17:51:51.313220Z",
     "start_time": "2019-11-30T17:51:51.308783Z"
    }
   },
   "outputs": [],
   "source": [
    "#自动检测坩埚位置的参数，级边框位置\n",
    "lineWidth = 5\n",
    "# upInner = 150\n",
    "upInner = 68\n",
    "# downInner = 1050\n",
    "downInner = 1075\n",
    "leftInner = 504\n",
    "rightInner = 1608"
   ]
  },
  {
   "cell_type": "code",
   "execution_count": 4,
   "metadata": {
    "ExecuteTime": {
     "end_time": "2019-11-30T17:51:52.856128Z",
     "start_time": "2019-11-30T17:51:52.834189Z"
    }
   },
   "outputs": [],
   "source": [
    "# 自动标记边框的四条线的参数，并导出图像的函数 \n",
    "def checkAndDrawBorder(filename,imageTest,leftInner,upInner,rightInner,downInner):\n",
    "    i = 0\n",
    "    maxStep = 200\n",
    "    leftThreshold = 100\n",
    "    upThreshold = 220\n",
    "    rightThreshold = 212\n",
    "    downThreshold = 160\n",
    "    while((imageTest[500:580,leftInner-lineWidth:leftInner] < leftThreshold).any()) :\n",
    "        leftInner -= 1\n",
    "        i += 1\n",
    "        if(i>maxStep):\n",
    "            break\n",
    "    i = 0\n",
    "    while((imageTest[500:580,leftInner+1] < leftThreshold).any() == False) :\n",
    "        leftInner += 1\n",
    "        i += 1\n",
    "        if(i>maxStep):\n",
    "            break\n",
    "    i = 0\n",
    "    while((imageTest[upInner-lineWidth:upInner,966:1150] <upThreshold).any()) :\n",
    "        upInner -= 1\n",
    "        i += 1\n",
    "        if(i>maxStep):\n",
    "            break\n",
    "    i = 0\n",
    "    while((imageTest[upInner + 1,966:1150] < upThreshold).any() == False) :\n",
    "        upInner += 1\n",
    "        i += 1\n",
    "        if(i>maxStep):\n",
    "            break\n",
    "    i = 0\n",
    "    while((imageTest[500:640,rightInner:rightInner + lineWidth] < rightThreshold).any()) :\n",
    "        rightInner += 1\n",
    "        i += 1\n",
    "        if(i>maxStep):\n",
    "            break\n",
    "    i = 0\n",
    "    while((imageTest[500:640,rightInner - 1] < rightThreshold).any() == False) :\n",
    "        rightInner -= 1\n",
    "        i += 1\n",
    "        if(i>maxStep):\n",
    "            break\n",
    "    i = 0\n",
    "    while((imageTest[downInner:downInner + lineWidth,966:1150] < downThreshold).any()) :\n",
    "        downInner += 1\n",
    "        i += 1\n",
    "        if(i>maxStep):\n",
    "            break\n",
    "    i = 0\n",
    "    while((imageTest[downInner-1, 966:1150] < downThreshold).any() == False) :\n",
    "        downInner -= 1\n",
    "        i += 1\n",
    "        if(i>maxStep):\n",
    "            break\n",
    "    imageTest[upInner-lineWidth:upInner,:] = 0\n",
    "    imageTest[downInner:downInner+lineWidth,:] = 0\n",
    "    imageTest[:,leftInner-lineWidth:leftInner] = 0\n",
    "    imageTest[:,rightInner:rightInner+lineWidth] = 0\n",
    "    # 在上级目录建立新的文件夹用于存储消抖动图片\n",
    "    image = imageTest[upInner:downInner,leftInner:rightInner]\n",
    "    cv2.imwrite(\"../Antij_source/\"+filename,imageTest)\n",
    "    cv2.imwrite(\"../Antij_source_result/\"+filename,image)\n",
    "    \n",
    "    return [leftInner,upInner,rightInner,downInner]"
   ]
  },
  {
   "cell_type": "code",
   "execution_count": 5,
   "metadata": {
    "ExecuteTime": {
     "end_time": "2019-11-30T17:52:03.920605Z",
     "start_time": "2019-11-30T17:51:55.350161Z"
    }
   },
   "outputs": [],
   "source": [
    "## 通过上述区域选择来消除抖动，并得到消抖之后的图片\n",
    "\n",
    "# 建立储存带框的坩埚图的文件夹\n",
    "try:\n",
    "    os.makedirs('../Antij_source')\n",
    "    os.makedirs('../Antij_source_result')\n",
    "except:\n",
    "    pass\n",
    "source_list = os.listdir()\n",
    "#antij_dic = {} # 有抖动的bmp字典，对应偏移的y，x值\n",
    "# print(source_list)\n",
    "\n",
    "for oneImage in source_list:\n",
    "    # 读入\n",
    "    imageTest = cv2.imread(oneImage,cv2.IMREAD_GRAYSCALE)\n",
    "    imageTest = cv2.equalizeHist(imageTest)\n",
    "    \n",
    "    checkAndDrawBorder(oneImage,imageTest,leftInner,upInner,rightInner,downInner)\n",
    "    "
   ]
  },
  {
   "cell_type": "code",
   "execution_count": 6,
   "metadata": {
    "ExecuteTime": {
     "end_time": "2019-11-30T17:52:05.396446Z",
     "start_time": "2019-11-30T17:52:03.945317Z"
    }
   },
   "outputs": [],
   "source": [
    "## 用于裁剪图片到相同大小 \n",
    "\n",
    "os.chdir('../Antij_source_result')\n",
    "for oneImage in os.listdir():\n",
    "    image = cv2.imread(oneImage,cv2.IMREAD_GRAYSCALE)\n",
    "    height = np.shape(image)[0]\n",
    "    width = np.shape(image)[1]\n",
    "    imageResult = image[height-994:height,0:1095]\n",
    "    cv2.imwrite(oneImage,imageResult)"
   ]
  },
  {
   "cell_type": "code",
   "execution_count": 9,
   "metadata": {
    "ExecuteTime": {
     "end_time": "2019-11-30T18:09:34.903525Z",
     "start_time": "2019-11-30T18:09:33.545264Z"
    }
   },
   "outputs": [
    {
     "data": {
      "image/png": "[encoded data removed]",
      "text/plain": [
       "<Figure size 432x288 with 1 Axes>"
      ]
     },
     "metadata": {
      "needs_background": "light"
     },
     "output_type": "display_data"
    }
   ],
   "source": [
    "## 裁剪至小框\n",
    "\n",
    "os.chdir('../Antij_source_result')\n",
    "\n",
    "imageTest = cv2.imread('0511.bmp',cv2.IMREAD_GRAYSCALE)\n",
    "\n",
    "# 定义用来标记边框的四条线的参数\n",
    "lineWidth = 5\n",
    "upInner = 270\n",
    "downInner = 750\n",
    "leftInner = 130\n",
    "rightInner = 600\n",
    "\n",
    "imageTest[upInner-lineWidth:upInner,:] = 0\n",
    "imageTest[downInner:downInner+lineWidth,:] = 0\n",
    "imageTest[:,leftInner-lineWidth:leftInner] = 0\n",
    "imageTest[:,rightInner:rightInner+lineWidth] = 0\n",
    "\n",
    "plt.imshow(imageTest,cmap=plt.cm.gray)\n",
    "\n",
    "def getInner(imageTest):\n",
    "    upInner = 270\n",
    "    downInner = 750\n",
    "    leftInner = 130\n",
    "    rightInner = 600\n",
    "    image = imageTest[upInner:downInner,leftInner:rightInner]\n",
    "    return image\n",
    "\n",
    "\n",
    "for oneImage in os.listdir():\n",
    "    # 读入\n",
    "    imageTest = cv2.imread(oneImage,cv2.IMREAD_GRAYSCALE)\n",
    "    imageTest = cv2.equalizeHist(imageTest)\n",
    "    # 覆盖写回\n",
    "    image = getInner(imageTest)\n",
    "\n",
    "    try:\n",
    "        os.makedirs('../InnerArea')\n",
    "    except:\n",
    "        pass\n",
    "\n",
    "    cv2.imwrite('../InnerArea/'+oneImage, image)\n",
    "    "
   ]
  },
  {
   "cell_type": "code",
   "execution_count": null,
   "metadata": {},
   "outputs": [],
   "source": []
  }
 ],
 "metadata": {
  "kernelspec": {
   "display_name": "Python 3",
   "language": "python",
   "name": "python3"
  },
  "language_info": {
   "codemirror_mode": {
    "name": "ipython",
    "version": 3
   },
   "file_extension": ".py",
   "mimetype": "text/x-python",
   "name": "python",
   "nbconvert_exporter": "python",
   "pygments_lexer": "ipython3",
   "version": "3.7.3"
  },
  "latex_envs": {
   "LaTeX_envs_menu_present": true,
   "autoclose": false,
   "autocomplete": true,
   "bibliofile": "biblio.bib",
   "cite_by": "apalike",
   "current_citInitial": 1,
   "eqLabelWithNumbers": true,
   "eqNumInitial": 1,
   "hotkeys": {
    "equation": "Ctrl-E",
    "itemize": "Ctrl-I"
   },
   "labels_anchors": false,
   "latex_user_defs": false,
   "report_style_numbering": false,
   "user_envs_cfg": false
  },
  "toc": {
   "base_numbering": 1,
   "nav_menu": {},
   "number_sections": true,
   "sideBar": true,
   "skip_h1_title": false,
   "title_cell": "Table of Contents",
   "title_sidebar": "Contents",
   "toc_cell": false,
   "toc_position": {},
   "toc_section_display": true,
   "toc_window_display": false
  },
  "varInspector": {
   "cols": {
    "lenName": 16,
    "lenType": 16,
    "lenVar": 40
   },
   "kernels_config": {
    "python": {
     "delete_cmd_postfix": "",
     "delete_cmd_prefix": "del ",
     "library": "var_list.py",
     "varRefreshCmd": "print(var_dic_list())"
    },
    "r": {
     "delete_cmd_postfix": ") ",
     "delete_cmd_prefix": "rm(",
     "library": "var_list.r",
     "varRefreshCmd": "cat(var_dic_list()) "
    }
   },
   "position": {
    "height": "285.86px",
    "left": "786px",
    "right": "20px",
    "top": "297px",
    "width": "350px"
   },
   "types_to_exclude": [
    "module",
    "function",
    "builtin_function_or_method",
    "instance",
    "_Feature"
   ],
   "window_display": true
  }
 },
 "nbformat": 4,
 "nbformat_minor": 2
}
