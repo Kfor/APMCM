{
 "cells": [
  {
   "cell_type": "code",
   "execution_count": 1,
   "metadata": {
    "ExecuteTime": {
     "end_time": "2019-11-30T18:40:29.719746Z",
     "start_time": "2019-11-30T18:40:17.671294Z"
    }
   },
   "outputs": [],
   "source": [
    "import numpy as np\n",
    "import tensorflow as tf\n",
    "import math"
   ]
  },
  {
   "cell_type": "code",
   "execution_count": null,
   "metadata": {},
   "outputs": [],
   "source": []
  },
  {
   "cell_type": "code",
   "execution_count": null,
   "metadata": {},
   "outputs": [],
   "source": []
  },
  {
   "cell_type": "code",
   "execution_count": 7,
   "metadata": {
    "ExecuteTime": {
     "end_time": "2019-11-30T18:45:49.468541Z",
     "start_time": "2019-11-30T18:45:49.459565Z"
    }
   },
   "outputs": [],
   "source": [
    "x_data = np.random.randn(300,1)\n",
    "y_data = np.random.randn(300,1)\n",
    "u_x = np.random.randn(300,1)\n",
    "u_y = np.random.randn(300,1)\n",
    "d = np.random.randn(300,1)\n",
    "\n",
    "dudt = np.random.randn(300,1)"
   ]
  },
  {
   "cell_type": "code",
   "execution_count": null,
   "metadata": {},
   "outputs": [],
   "source": []
  },
  {
   "cell_type": "code",
   "execution_count": null,
   "metadata": {},
   "outputs": [],
   "source": [
    "\n",
    "with tf.Session() as sess:\n",
    "    # add one more lKayer and return the output of this layer\n",
    "    in_size = 300\n",
    "    out_size = 1\n",
    "    K = tf.Variable(tf.random_normal([in_size, out_size],0,10))\n",
    "    psi = tf.Variable(tf.random_normal([in_size, out_size],0,10))\n",
    "    Cd = tf.Variable(tf.random_normal([in_size, out_size],0,10))\n",
    "    Fdz = tf.Variable(tf.random_normal([in_size, out_size],0,10))\n",
    "    Fin = tf.Variable(tf.random_normal([in_size, out_size],0,10))\n",
    "    dudt_out = tf.Variable(tf.random_normal([in_size, out_size],0,10))\n",
    "    outputs = tf.Variable(tf.random_normal([in_size, out_size],0,10))\n",
    "    l1 = tf.Variable(tf.random_normal([in_size, out_size],0,10))\n",
    "    # 添加神经网络层的函数\n",
    "    def add_layer(x,y,u_x,u_y,x_y_flag,d,activation_function=None):\n",
    "        if(x_y_flag == 0):\n",
    "            u = u_x\n",
    "        else:\n",
    "            u = u_y\n",
    "        # 二氧化硅运动轨迹方程的相关参数\n",
    "        mu = 15\n",
    "        rho_flow = 180\n",
    "        rho = 2650\n",
    "        g = 9.8\n",
    "        Cd = 24*mu/(rho_flow*K*d)*(1/u+tf.exp(2.3288-6.5481*psi+2.4486*psi*psi))*tf.pow(rho_flow*K*u*d/mu,0.0964+0.5565*psi)/u + tf.exp(4.905-13.8944*psi+18.42222*psi*psi-10.2599*psi*psi*psi)/(1+mu/(rho_flow*K*d*u)*tf.exp(1.4681+12.2584*psi-20.7322*psi*psi+15.8855*psi*psi*psi))\n",
    "        tf.print(Cd,[Cd],\"Cd:\")\n",
    "        Fdz = math.pi*tf.pow(d,2)/8*Cd*rho_flow*tf.pow(K-1,2)*tf.pow(u,2)\n",
    "        tf.print(Fdz,[Fdz],\"fdz:\")\n",
    "        Fin = 1/6*math.pi*tf.pow(d,3)*rho*g*u/tf.pow((tf.pow(u_x,2)+tf.pow(u_y,2)),1/2)\n",
    "        tf.print(Fin,[Fin],\"Fin:\")\n",
    "        dudt_out = (Fdz - Fin)/(math.pi*tf.pow(d,3))/(rho-1/2*rho_flow*(K-1))\n",
    "        if activation_function is None:\n",
    "            outputs = dudt_out\n",
    "        else:\n",
    "            outputs = activation_function(dudt_out)\n",
    "        return outputs\n",
    "\n",
    "\n",
    "    # 不同时间质心序列的位置、dudt的placeholder\n",
    "    x_ph = tf.placeholder(tf.float32, [None, 1])\n",
    "    y_ph = tf.placeholder(tf.float32, [None, 1])\n",
    "    u_x_ph = tf.placeholder(tf.float32, [None, 1])\n",
    "    u_y_ph = tf.placeholder(tf.float32, [None, 1])\n",
    "    d_ph = tf.placeholder(tf.float32, [None, 1])\n",
    "    dudt_ph = tf.placeholder(tf.float32, [None, 1])\n",
    "\n",
    "    l1 = add_layer(x_ph,y_ph,u_x_ph,u_y_ph,0,d_ph)\n",
    "    loss = tf.reduce_mean(tf.square(outputs-dudt))\n",
    "    train_step = tf.train.GradientDescentOptimizer(0.8).minimize(loss)\n",
    "\n",
    "    #变量初始化，目的是给Graph上的图中的变量初始化。\n",
    "    sess.run(tf.global_variables_initializer())\n",
    "    for i in range(10000):\n",
    "        sess.run(train_step,feed_dict={x_ph:x_data,y_ph:y_data,u_x_ph:u_x,u_y_ph:u_y,d_ph:d})\n",
    "        if(i%100==0):\n",
    "            print(\"loss\",sess.run(loss,feed_dict={x_ph:x_data,y_ph:y_data,u_x_ph:u_x,u_y_ph:u_y,d_ph:d}))\n",
    "        "
   ]
  },
  {
   "cell_type": "code",
   "execution_count": null,
   "metadata": {},
   "outputs": [],
   "source": []
  },
  {
   "cell_type": "code",
   "execution_count": null,
   "metadata": {},
   "outputs": [],
   "source": []
  },
  {
   "cell_type": "code",
   "execution_count": null,
   "metadata": {},
   "outputs": [],
   "source": []
  },
  {
   "cell_type": "code",
   "execution_count": null,
   "metadata": {},
   "outputs": [],
   "source": []
  },
  {
   "cell_type": "code",
   "execution_count": null,
   "metadata": {},
   "outputs": [],
   "source": []
  }
 ],
 "metadata": {
  "kernelspec": {
   "display_name": "Python 3",
   "language": "python",
   "name": "python3"
  },
  "language_info": {
   "codemirror_mode": {
    "name": "ipython",
    "version": 3
   },
   "file_extension": ".py",
   "mimetype": "text/x-python",
   "name": "python",
   "nbconvert_exporter": "python",
   "pygments_lexer": "ipython3",
   "version": "3.7.3"
  },
  "latex_envs": {
   "LaTeX_envs_menu_present": true,
   "autoclose": false,
   "autocomplete": true,
   "bibliofile": "biblio.bib",
   "cite_by": "apalike",
   "current_citInitial": 1,
   "eqLabelWithNumbers": true,
   "eqNumInitial": 1,
   "hotkeys": {
    "equation": "Ctrl-E",
    "itemize": "Ctrl-I"
   },
   "labels_anchors": false,
   "latex_user_defs": false,
   "report_style_numbering": false,
   "user_envs_cfg": false
  },
  "toc": {
   "base_numbering": 1,
   "nav_menu": {},
   "number_sections": true,
   "sideBar": true,
   "skip_h1_title": false,
   "title_cell": "Table of Contents",
   "title_sidebar": "Contents",
   "toc_cell": false,
   "toc_position": {},
   "toc_section_display": true,
   "toc_window_display": false
  },
  "varInspector": {
   "cols": {
    "lenName": 16,
    "lenType": 16,
    "lenVar": 40
   },
   "kernels_config": {
    "python": {
     "delete_cmd_postfix": "",
     "delete_cmd_prefix": "del ",
     "library": "var_list.py",
     "varRefreshCmd": "print(var_dic_list())"
    },
    "r": {
     "delete_cmd_postfix": ") ",
     "delete_cmd_prefix": "rm(",
     "library": "var_list.r",
     "varRefreshCmd": "cat(var_dic_list()) "
    }
   },
   "types_to_exclude": [
    "module",
    "function",
    "builtin_function_or_method",
    "instance",
    "_Feature"
   ],
   "window_display": true
  }
 },
 "nbformat": 4,
 "nbformat_minor": 2
}
