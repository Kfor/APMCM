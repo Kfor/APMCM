{
 "cells": [
  {
   "cell_type": "code",
   "execution_count": null,
   "metadata": {
    "ExecuteTime": {
     "start_time": "2019-12-01T13:35:16.312Z"
    }
   },
   "outputs": [],
   "source": [
    "## 引入头文件\n",
    "import cv2\n",
    "import numpy as np\n",
    "from skimage import filters, feature, img_as_float, measure, morphology\n",
    "import os\n",
    "import matplotlib.pyplot as plt\n",
    "from skimage.feature import shape_index\n",
    "from skimage.draw import circle\n",
    "from skimage.filters import try_all_threshold\n",
    "from skimage.segmentation import chan_vese\n",
    "from skimage.filters import threshold_otsu, threshold_triangle"
   ]
  },
  {
   "cell_type": "code",
   "execution_count": 2,
   "metadata": {
    "ExecuteTime": {
     "end_time": "2019-11-30T15:55:44.347118Z",
     "start_time": "2019-11-30T15:55:44.342104Z"
    }
   },
   "outputs": [],
   "source": [
    "## 定义路径\n",
    "# 将path定义为图片文件夹的路径\n",
    "path = r'C:\\Users\\Kfor\\Desktop\\亚太\\2019 APMCM Problems\\2019 APMCM Problems\\BinaryResult'\n",
    "os.chdir(path)"
   ]
  },
  {
   "cell_type": "code",
   "execution_count": 63,
   "metadata": {
    "ExecuteTime": {
     "end_time": "2019-11-30T16:22:46.285133Z",
     "start_time": "2019-11-30T16:22:45.995907Z"
    }
   },
   "outputs": [
    {
     "name": "stderr",
     "output_type": "stream",
     "text": [
      "C:\\Users\\Kfor\\Anaconda3\\lib\\site-packages\\ipykernel_launcher.py:5: UserWarning: Any labeled images will be returned as a boolean array. Did you mean to use a boolean array?\n",
      "  \"\"\"\n"
     ]
    },
    {
     "data": {
      "text/plain": [
       "<matplotlib.image.AxesImage at 0x2ac799d5b70>"
      ]
     },
     "execution_count": 63,
     "metadata": {},
     "output_type": "execute_result"
    },
    {
     "data": {
      "image/png": "[encoded data removed]",
      "text/plain": [
       "<Figure size 432x288 with 1 Axes>"
      ]
     },
     "metadata": {
      "needs_background": "light"
     },
     "output_type": "display_data"
    }
   ],
   "source": [
    "image = plt.imread('0540.bmp')\n",
    "image = morphology.closing(image)\n",
    "kernel = np.ones((5,5),np.uint8)# 生长\n",
    "image = cv2.dilate(image, kernel, iterations=10)\n",
    "image = morphology.remove_small_holes(image,10000)\n",
    "plt.imshow(image,cmap=plt.cm.gray)"
   ]
  },
  {
   "cell_type": "code",
   "execution_count": 48,
   "metadata": {
    "ExecuteTime": {
     "end_time": "2019-11-30T16:13:37.767127Z",
     "start_time": "2019-11-30T16:13:37.760145Z"
    }
   },
   "outputs": [],
   "source": [
    "try:\n",
    "    os.makedirs('../BinaryResultFilled')\n",
    "except:\n",
    "    pass"
   ]
  },
  {
   "cell_type": "code",
   "execution_count": 65,
   "metadata": {
    "ExecuteTime": {
     "end_time": "2019-11-30T16:30:48.293820Z",
     "start_time": "2019-11-30T16:30:45.111666Z"
    }
   },
   "outputs": [
    {
     "name": "stderr",
     "output_type": "stream",
     "text": [
      "C:\\Users\\Kfor\\Anaconda3\\lib\\site-packages\\ipykernel_launcher.py:6: UserWarning: Any labeled images will be returned as a boolean array. Did you mean to use a boolean array?\n",
      "  \n"
     ]
    }
   ],
   "source": [
    "for oneImage in os.listdir():\n",
    "    image = plt.imread(oneImage)\n",
    "    image = morphology.closing(image)\n",
    "    kernel = np.ones((5,5),np.uint8)# 生长\n",
    "    image = cv2.dilate(image, kernel, iterations=10)\n",
    "    image = morphology.remove_small_holes(image,10000)\n",
    "    tmp = np.ndarray(shape=np.shape(image))\n",
    "    tmp[image] = 255\n",
    "    cv2.imwrite('../BinaryResultFilled/'+oneImage,tmp)\n",
    "    "
   ]
  },
  {
   "cell_type": "code",
   "execution_count": null,
   "metadata": {},
   "outputs": [],
   "source": []
  },
  {
   "cell_type": "code",
   "execution_count": null,
   "metadata": {},
   "outputs": [],
   "source": []
  },
  {
   "cell_type": "code",
   "execution_count": null,
   "metadata": {},
   "outputs": [],
   "source": []
  },
  {
   "cell_type": "code",
   "execution_count": null,
   "metadata": {},
   "outputs": [],
   "source": []
  },
  {
   "cell_type": "code",
   "execution_count": null,
   "metadata": {},
   "outputs": [],
   "source": []
  },
  {
   "cell_type": "code",
   "execution_count": null,
   "metadata": {},
   "outputs": [],
   "source": []
  },
  {
   "cell_type": "code",
   "execution_count": null,
   "metadata": {},
   "outputs": [],
   "source": []
  },
  {
   "cell_type": "code",
   "execution_count": null,
   "metadata": {},
   "outputs": [],
   "source": []
  }
 ],
 "metadata": {
  "kernelspec": {
   "display_name": "Python 3",
   "language": "python",
   "name": "python3"
  },
  "language_info": {
   "codemirror_mode": {
    "name": "ipython",
    "version": 3
   },
   "file_extension": ".py",
   "mimetype": "text/x-python",
   "name": "python",
   "nbconvert_exporter": "python",
   "pygments_lexer": "ipython3",
   "version": "3.7.3"
  },
  "latex_envs": {
   "LaTeX_envs_menu_present": true,
   "autoclose": false,
   "autocomplete": true,
   "bibliofile": "biblio.bib",
   "cite_by": "apalike",
   "current_citInitial": 1,
   "eqLabelWithNumbers": true,
   "eqNumInitial": 1,
   "hotkeys": {
    "equation": "Ctrl-E",
    "itemize": "Ctrl-I"
   },
   "labels_anchors": false,
   "latex_user_defs": false,
   "report_style_numbering": false,
   "user_envs_cfg": false
  },
  "toc": {
   "base_numbering": 1,
   "nav_menu": {},
   "number_sections": true,
   "sideBar": true,
   "skip_h1_title": false,
   "title_cell": "Table of Contents",
   "title_sidebar": "Contents",
   "toc_cell": false,
   "toc_position": {},
   "toc_section_display": true,
   "toc_window_display": false
  },
  "varInspector": {
   "cols": {
    "lenName": 16,
    "lenType": 16,
    "lenVar": 40
   },
   "kernels_config": {
    "python": {
     "delete_cmd_postfix": "",
     "delete_cmd_prefix": "del ",
     "library": "var_list.py",
     "varRefreshCmd": "print(var_dic_list())"
    },
    "r": {
     "delete_cmd_postfix": ") ",
     "delete_cmd_prefix": "rm(",
     "library": "var_list.r",
     "varRefreshCmd": "cat(var_dic_list()) "
    }
   },
   "types_to_exclude": [
    "module",
    "function",
    "builtin_function_or_method",
    "instance",
    "_Feature"
   ],
   "window_display": true
  }
 },
 "nbformat": 4,
 "nbformat_minor": 2
}
